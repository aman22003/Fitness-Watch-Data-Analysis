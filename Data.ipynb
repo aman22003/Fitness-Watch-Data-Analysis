Fitness Watch Data Analysis: Process We Can Follow
Fitness Watch Data Analysis is a crucial tool for businesses in the health and wellness domain. By analyzing user data from fitness wearables, companies can understand user behaviour, offer personalized solutions, and contribute to improving users’ overall health and well-being.

Below is the process we can follow while working on the problem of Fitness Watch Data Analysis:

Collect data from fitness watches, ensuring it’s accurate and reliable.
Perform EDA to gain initial insights into the data.
Create new features from the raw data that might provide more meaningful insights.
Create visual representations of the data to communicate insights effectively.
Segment user’s activity based on time intervals or the level of fitness metrics and analyze their performance.
So, the process starts with collecting data from a fitness watch. Every fitness watch works with an app on your smartphone. You can collect data from that app on your smartphone. For example, in my case, I collected my fitness watch’s data from Apple’s Health app. If you will also collect fitness data from any app, it will not be in a format to be used for analysis.  

Fitness Watch Data Analysis using Python
Now let’s get started with the task of Fitness Watch Data Analysis by importing the necessary Python libraries and the dataset:

import pandas as pd
import plotly.io as pio
import plotly.graph_objects as go
pio.templates.default = "plotly_white"
import plotly.express as px

data = pd.read_csv("Apple-fitness-Data.CSV")
Print(data.head())

       Date       Time  Step Count  Distance  Energy Burned  \
0  2023-03-21  16:01:23           46   0.02543         14.620   
1  2023-03-21  16:18:37          645   0.40041         14.722   
2  2023-03-21  16:31:38           14   0.00996         14.603   
3  2023-03-21  16:45:37           13   0.00901         14.811   
4  2023-03-21  17:10:30           17   0.00904         15.153   

   Flights Climbed  Walking Double Support Percentage  Walking Speed  
0                3                              0.304          3.060  
1                3                              0.309          3.852  
2                4                              0.278          3.996  
3                3                              0.278          5.040  
4                3                              0.281          5.184  


Let’s have a look if this data contains any null values or not:

1. print(data.isnull().sum())print(data.isnull().sum())
Date                                 0
Time                                 0
Step Count                           0
Distance                             0
Energy Burned                        0
Flights Climbed                      0
Walking Double Support Percentage    0
Walking Speed                        0
dtype: int64

So, the data doesn’t have any null values. Let’s move further by analyzing my step count over time:So, the data doesn’t have any null values. Let’s move further by analyzing my step count over time:
# Step Count Over Time
fig1 = px.line(data, x="Time",
               y="Step Count",
               title="Step Count Over Time")
fig1.show()





Now, let’s have a look at the distance covered over time:

1
# Distance Covered Over Time
2
fig2 = px.line(data, x="Time",
3
               y="Distance",
4
               title="Distance Covered Over Time")
5
fig2.show()



Now, let’s have a look at my energy burned over time:

1
# Energy Burned Over Time
2
fig3 = px.line(data, x="Time",
3
               y="Energy Burned",
4
               title="Energy Burned Over Time")
5
fig3.show()


Now, let’s have a look at my walking speed over time:

1
# Walking Speed Over Time
2
fig4 = px.line(data, x="Time",
3
               y="Walking Speed",
4
               title="Walking Speed Over Time")
5
fig4.show()



Now, let’s calculate and look at the average step counts per day:

1
# Calculate Average Step Count per Day
2
average_step_count_per_day = data.groupby("Date")["Step Count"].mean().reset_index()
3
​
4
fig5 = px.bar(average_step_count_per_day, x="Date",
5
              y="Step Count",
6
              title="Average Step Count per Day")
7
fig5.update_xaxes(type='category')
8
fig5.show()Now, let’s calculate and look at the average step counts per day:

1
# Calculate Average Step Count per Day
2
average_step_count_per_day = data.groupby("Date")["Step Count"].mean().reset_index()
3
​
4
fig5 = px.bar(average_step_count_per_day, x="Date",
5
              y="Step Count",
6
              title="Average Step Count per Day")
7
fig5.update_xaxes(type='category')
8
fig5.show()




Now, let’s have a look at my walking efficiency over time:
# Calculate Walking Efficiency
data["Walking Efficiency"] = data["Distance"] / data["Step Count"]

fig6 = px.line(data, x="Time",
               y="Walking Efficiency",
               title="Walking Efficiency Over Time")
fig6.show()



Now, let’s have a look at the step count and walking speed variations by time intervals:

1
# Create Time Intervals
2
time_intervals = pd.cut(pd.to_datetime(data["Time"]).dt.hour,
3
                        bins=[0, 12, 18, 24],
4
                        labels=["Morning", "Afternoon", "Evening"], 
5
                        right=False)
6
​
7
data["Time Interval"] = time_intervals
8
​
9
# Variations in Step Count and Walking Speed by Time Interval
10
fig7 = px.scatter(data, x="Step Count",
11
                  y="Walking Speed",
12
                  color="Time Interval",
13
                  title="Step Count and Walking Speed Variations by Time Interval",
14
                  trendline='ols')
15
fig7.show()


Now, let’s compare the daily average of all the health and fitness metrics:

1
# Reshape data for treemap
2
daily_avg_metrics = data.groupby("Date").mean().reset_index()
3
​
4
daily_avg_metrics_melted = daily_avg_metrics.melt(id_vars=["Date"], 
5
                                                  value_vars=["Step Count", "Distance", 
6
                                                              "Energy Burned", "Flights Climbed", 
7
                                                              "Walking Double Support Percentage", 
8
                                                              "Walking Speed"])
9
​
10
# Treemap of Daily Averages for Different Metrics Over Several Weeks
11
fig = px.treemap(daily_avg_metrics_melted,
12
                 path=["variable"],
13
                 values="value",
14
                 color="variable",
15
                 hover_data=["value"],
16
                 title="Daily Averages for Different Metrics")
17
fig.show()

